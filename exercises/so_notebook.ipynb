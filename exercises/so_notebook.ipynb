{
 "cells": [
  {
   "cell_type": "code",
   "execution_count": 5,
   "metadata": {},
   "outputs": [
    {
     "data": {
      "text/plain": [
       "'Tori'"
      ]
     },
     "execution_count": 5,
     "metadata": {},
     "output_type": "execute_result"
    }
   ],
   "source": [
    "heirs = [\"Aiden\", \"Tori\", \"Lucas\", \"Isabelle\"]\n",
    "ppleinstudio = [\"Lucas\", \"Natalie\", \"Tori\"]\n",
    "knife = [\"Isabelle\", \"Tori\", \"Natalie\"]\n",
    "\n",
    "h_set = set(heirs)\n",
    "s_set = set(ppleinstudio)\n",
    "k_set = set(knife)\n",
    "\n",
    "culprit = h_set.intersection(s_set.intersection(k_set)).pop()\n",
    "print(culprit)"
   ]
  },
  {
   "cell_type": "code",
   "execution_count": null,
   "metadata": {},
   "outputs": [],
   "source": []
  }
 ],
 "metadata": {
  "kernelspec": {
   "display_name": "Python 3.10.1 64-bit",
   "language": "python",
   "name": "python3"
  },
  "language_info": {
   "codemirror_mode": {
    "name": "ipython",
    "version": 3
   },
   "file_extension": ".py",
   "mimetype": "text/x-python",
   "name": "python",
   "nbconvert_exporter": "python",
   "pygments_lexer": "ipython3",
   "version": "3.10.1"
  },
  "orig_nbformat": 4,
  "vscode": {
   "interpreter": {
    "hash": "5e2a77d136c4f8b4d00597c76d29b57c8c0330e27acb292bec69b977383e18d2"
   }
  }
 },
 "nbformat": 4,
 "nbformat_minor": 2
}
